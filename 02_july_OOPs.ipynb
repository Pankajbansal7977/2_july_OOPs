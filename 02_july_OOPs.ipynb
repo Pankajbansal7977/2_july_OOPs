{
 "cells": [
  {
   "cell_type": "code",
   "execution_count": 1,
   "id": "298553a1",
   "metadata": {},
   "outputs": [],
   "source": [
    "# 1. Explain what inheritance is in object-oriented programming and why it is used."
   ]
  },
  {
   "cell_type": "code",
   "execution_count": 2,
   "id": "31353b2a",
   "metadata": {},
   "outputs": [
    {
     "data": {
      "text/plain": [
       "'\\nlass (called the subclass or derived class) to inherit properties and behaviors from another class (called the superclass or base class). Inheritance is used to model an \"is-a\" relationship between classes, where a subclass is a specialized version of the superclass.\\n'"
      ]
     },
     "execution_count": 2,
     "metadata": {},
     "output_type": "execute_result"
    }
   ],
   "source": [
    "'''\n",
    "lass (called the subclass or derived class) to inherit properties and behaviors from another class (called the superclass or base class). Inheritance is used to model an \"is-a\" relationship between classes, where a subclass is a specialized version of the superclass.\n",
    "'''"
   ]
  },
  {
   "cell_type": "code",
   "execution_count": 3,
   "id": "34ae4845",
   "metadata": {},
   "outputs": [
    {
     "name": "stdout",
     "output_type": "stream",
     "text": [
      "Buddy says Woof!\n",
      "Whiskers says Meow!\n"
     ]
    }
   ],
   "source": [
    "class Animal:\n",
    "    def __init__(self, name):\n",
    "        self.name = name\n",
    "\n",
    "    def speak(self):\n",
    "        pass\n",
    "\n",
    "class Dog(Animal):\n",
    "    def speak(self):\n",
    "        return f\"{self.name} says Woof!\"\n",
    "\n",
    "class Cat(Animal):\n",
    "    def speak(self):\n",
    "        return f\"{self.name} says Meow!\"\n",
    "\n",
    "dog = Dog(\"Buddy\")\n",
    "cat = Cat(\"Whiskers\")\n",
    "\n",
    "print(dog.speak())  \n",
    "print(cat.speak()) \n"
   ]
  },
  {
   "cell_type": "code",
   "execution_count": null,
   "id": "c0311add",
   "metadata": {},
   "outputs": [],
   "source": [
    "''' 2. Discuss the concept of single inheritance and multiple inheritance, highlighting their\n",
    "differences and advantages.\n",
    "'''"
   ]
  },
  {
   "cell_type": "code",
   "execution_count": 4,
   "id": "e25f2685",
   "metadata": {},
   "outputs": [],
   "source": [
    "'''\n",
    "Single Inheritance:\n",
    "\n",
    "Definition: Single inheritance occurs when a class inherits properties and behaviors from only one single superclass or base class. In other words, a subclass can have only one immediate parent class.\n",
    "Advantages\n",
    "Simplicity\n",
    "Avoids Diamond Problem\n",
    "'''\n",
    "class Animal:\n",
    "    def speak(self):\n",
    "        pass\n",
    "\n",
    "class Dog(Animal):\n",
    "    def speak(self):\n",
    "        return \"Woof!\"\n",
    "\n",
    "class Cat(Animal):\n",
    "    def speak(self):\n",
    "        return \"Meow!\"\n",
    "'''\n",
    "Multiple Inheritance:\n",
    "\n",
    "Definition: Multiple inheritance allows a class to inherit properties and behaviors from more than one superclass. This means that a subclass can have multiple immediate parent classes, potentially leading to a more complex hierarchy.\n",
    "\n",
    "Advantages:\n",
    "Enhanced Flexibility\n",
    "Code Reusability\n",
    "'''\n",
    "class A:\n",
    "    def method(self):\n",
    "        return \"Method from class A\"\n",
    "\n",
    "class B(A):\n",
    "    def method(self):\n",
    "        return \"Method from class B\"\n",
    "\n",
    "class C(A):\n",
    "    def method(self):\n",
    "        return \"Method from class C\"\n",
    "\n",
    "class D(B, C):\n",
    "    pass\n"
   ]
  },
  {
   "cell_type": "code",
   "execution_count": 5,
   "id": "8a9b6a95",
   "metadata": {},
   "outputs": [],
   "source": [
    "# 3. Explain the terms \"base class\" and \"derived class\" in the context of inheritance."
   ]
  },
  {
   "cell_type": "code",
   "execution_count": null,
   "id": "b1b0d1cc",
   "metadata": {},
   "outputs": [],
   "source": [
    "'''\n",
    "Base Class (Superclass):\n",
    "\n",
    "Definition: The base class is the class that provides the blueprint or template for one or more derived classes. It contains common attributes and methods that can be inherited by one or more subclasses.\n",
    "'''\n",
    "class Shape:\n",
    "    def area(self):\n",
    "        pass\n",
    "\n",
    "class Circle(Shape):\n",
    "    def area(self, radius):\n",
    "        return 3.14 * radius * radius\n",
    "'''\n",
    "Derived Class (Subclass):\n",
    "\n",
    "Definition: The derived class is a class that inherits attributes and methods from a base class. It can also add new attributes and methods or override existing ones to customize its behavior.\n",
    "'''\n",
    "class Animal:\n",
    "    def speak(self):\n",
    "        pass\n",
    "\n",
    "class Dog(Animal):\n",
    "    def speak(self):\n",
    "        return \"Woof!\"\n",
    "\n",
    "class Cat(Animal):\n",
    "    def speak(self):\n",
    "        return \"Meow!\"\n"
   ]
  },
  {
   "cell_type": "code",
   "execution_count": null,
   "id": "819d2cdb",
   "metadata": {},
   "outputs": [],
   "source": [
    "'''\n",
    "4. What is the significance of the \"protected\" access modifier in inheritance? How does\n",
    "it differ from \"private\" and \"public\" modifiers?\n",
    "'''"
   ]
  },
  {
   "cell_type": "code",
   "execution_count": null,
   "id": "9fa93175",
   "metadata": {},
   "outputs": [],
   "source": [
    "'''\n",
    "Public Access Modifier:\n",
    "\n",
    "Significance: Public members are accessible from anywhere, both within the class and outside the class. They have no restrictions on their visibility.'''\n",
    "class MyClass:\n",
    "    def __init__(self):\n",
    "        self.public_var = 42\n",
    "\n",
    "    def public_method(self):\n",
    "        return \"This is a public method\"\n",
    "'''\n",
    "Private Access Modifier:\n",
    "\n",
    "Significance: Private members are only accessible within the class in which they are defined. They are not accessible from outside the class, including in derived classes.'''\n",
    "class MyClass:\n",
    "    def __init__(self):\n",
    "        self.__private_var = 42\n",
    "\n",
    "    def __private_method(self):\n",
    "        return \"This is a private method\"\n",
    "'''\n",
    "Protected Access Modifier:\n",
    "\n",
    "Significance: Protected members are accessible within the class in which they are defined and also in derived classes. They are not accessible from outside the class hierarchy.'''\n",
    "\n",
    "class MyClass:\n",
    "    def __init__(self):\n",
    "        self._protected_var = 42\n",
    "\n",
    "    def _protected_method(self):\n",
    "        return \"This is a protected method\"\n"
   ]
  },
  {
   "cell_type": "code",
   "execution_count": null,
   "id": "d54cb577",
   "metadata": {},
   "outputs": [],
   "source": [
    "# 5. What is the purpose of the \"super\" keyword in inheritance? Provide an example."
   ]
  },
  {
   "cell_type": "code",
   "execution_count": null,
   "id": "20a96a07",
   "metadata": {},
   "outputs": [],
   "source": [
    "'''\n",
    "The \"super\" keyword in inheritance serves the purpose of referencing and calling the superclass's (or parent class's) methods and constructors from within the context of a subclass. It allows you to invoke the behavior of the superclass while customizing or extending it in the subclass. The \"super\" keyword is particularly useful when you override methods in the subclass and want to call the overridden method from the superclass\n",
    "'''\n",
    "class Animal:\n",
    "    def __init__(self, name):\n",
    "        self.name = name\n",
    "\n",
    "    def speak(self):\n",
    "        pass\n",
    "\n",
    "class Dog(Animal):\n",
    "    def __init__(self, name, breed):\n",
    "        super().__init__(name)  # Call the constructor of the superclass (Animal)\n",
    "        self.breed = breed\n",
    "\n",
    "    def speak(self):\n",
    "        return f\"{self.name} says Woof!\"\n",
    "\n",
    "class Cat(Animal):\n",
    "    def __init__(self, name, color):\n",
    "        super().__init__(name)  # Call the constructor of the superclass (Animal)\n",
    "        self.color = color\n",
    "\n",
    "    def speak(self):\n",
    "        return f\"{self.name} says Meow!\"\n",
    "\n",
    "# Create instances of Dog and Cat\n",
    "dog = Dog(\"Buddy\", \"Golden Retriever\")\n",
    "cat = Cat(\"Whiskers\", \"Tabby\")\n",
    "\n",
    "# Accessing overridden methods using \"super\"\n",
    "print(dog.speak())  \n",
    "print(cat.speak())  \n"
   ]
  },
  {
   "cell_type": "code",
   "execution_count": null,
   "id": "66aa3fda",
   "metadata": {},
   "outputs": [],
   "source": [
    "'''\n",
    "6. Create a base class called \"Vehicle\" with attributes like \"make\", \"model\", and \"year\".\n",
    "Then, create a derived class called \"Car\" that inherits from \"Vehicle\" and adds an\n",
    "attribute called \"fuel_type\". Implement appropriate methods in both classes.\n",
    "'''"
   ]
  },
  {
   "cell_type": "code",
   "execution_count": 6,
   "id": "2b2b585e",
   "metadata": {},
   "outputs": [
    {
     "name": "stdout",
     "output_type": "stream",
     "text": [
      "2022 Toyota Camry is starting.\n",
      "2023 Honda Civic is starting.\n",
      "2022 Toyota Camry is stopping.\n",
      "2023 Honda Civic is stopping.\n",
      "2023 Honda Civic goes Honk! Honk!\n",
      "Car fuel type: Gasoline\n"
     ]
    }
   ],
   "source": [
    "class Vehicle:\n",
    "    def __init__(self, make, model, year):\n",
    "        self.make = make\n",
    "        self.model = model\n",
    "        self.year = year\n",
    "\n",
    "    def start(self):\n",
    "        return f\"{self.year} {self.make} {self.model} is starting.\"\n",
    "\n",
    "    def stop(self):\n",
    "        return f\"{self.year} {self.make} {self.model} is stopping.\"\n",
    "\n",
    "class Car(Vehicle):\n",
    "    def __init__(self, make, model, year, fuel_type):\n",
    "        super().__init__(make, model, year)  # Call the constructor of the superclass (Vehicle)\n",
    "        self.fuel_type = fuel_type\n",
    "\n",
    "    def honk(self):\n",
    "        return f\"{self.year} {self.make} {self.model} goes Honk! Honk!\"\n",
    "\n",
    "# Create instances of Vehicle and Car\n",
    "vehicle = Vehicle(\"Toyota\", \"Camry\", 2022)\n",
    "car = Car(\"Honda\", \"Civic\", 2023, \"Gasoline\")\n",
    "\n",
    "# Access attributes and methods\n",
    "print(vehicle.start())  \n",
    "print(car.start())      \n",
    "\n",
    "print(vehicle.stop())   \n",
    "print(car.stop())       \n",
    "\n",
    "print(car.honk())       \n",
    "\n",
    "# Accessing attributes specific to Car\n",
    "print(f\"Car fuel type: {car.fuel_type}\")\n"
   ]
  },
  {
   "cell_type": "code",
   "execution_count": null,
   "id": "9b3aef55",
   "metadata": {},
   "outputs": [],
   "source": [
    "'''\n",
    "7. Create a base class called \"Employee\" with attributes like \"name\" and \"salary.\"\n",
    "Derive two classes, \"Manager\" and \"Developer,\" from \"Employee.\" Add an additional\n",
    "attribute called \"department\" for the \"Manager\" class and \"programming_language\"\n",
    "for the \"Developer\" class.\n",
    "'''"
   ]
  },
  {
   "cell_type": "code",
   "execution_count": 7,
   "id": "2ce21528",
   "metadata": {},
   "outputs": [
    {
     "name": "stdout",
     "output_type": "stream",
     "text": [
      "Name: Alice, Salary: 80000, Department: HR\n",
      "Name: Bob, Salary: 90000, Programming Language: Python\n"
     ]
    }
   ],
   "source": [
    "class Employee:\n",
    "    def __init__(self, name, salary):\n",
    "        self.name = name\n",
    "        self.salary = salary\n",
    "\n",
    "    def display_info(self):\n",
    "        return f\"Name: {self.name}, Salary: {self.salary}\"\n",
    "\n",
    "class Manager(Employee):\n",
    "    def __init__(self, name, salary, department):\n",
    "        super().__init__(name, salary)  # Call the constructor of the superclass (Employee)\n",
    "        self.department = department\n",
    "\n",
    "    def display_info(self):\n",
    "        return f\"Name: {self.name}, Salary: {self.salary}, Department: {self.department}\"\n",
    "\n",
    "class Developer(Employee):\n",
    "    def __init__(self, name, salary, programming_language):\n",
    "        super().__init__(name, salary)  # Call the constructor of the superclass (Employee)\n",
    "        self.programming_language = programming_language\n",
    "\n",
    "    def display_info(self):\n",
    "        return f\"Name: {self.name}, Salary: {self.salary}, Programming Language: {self.programming_language}\"\n",
    "\n",
    "# Create instances of Manager and Developer\n",
    "manager = Manager(\"Alice\", 80000, \"HR\")\n",
    "developer = Developer(\"Bob\", 90000, \"Python\")\n",
    "\n",
    "# Access attributes and methods\n",
    "print(manager.display_info()) \n",
    "print(developer.display_info())  \n"
   ]
  },
  {
   "cell_type": "code",
   "execution_count": null,
   "id": "4827c444",
   "metadata": {},
   "outputs": [],
   "source": [
    "'''\n",
    "8. Design a base class called \"Shape\" with attributes like \"colour\" and \"border_width.\"\n",
    "Create derived classes, \"Rectangle\" and \"Circle,\" that inherit from \"Shape\" and add\n",
    "specific attributes like \"length\" and \"width\" for the \"Rectangle\" class and \"radius\" for\n",
    "the \"Circle\" class.\n",
    "'''"
   ]
  },
  {
   "cell_type": "code",
   "execution_count": 8,
   "id": "2cb11b19",
   "metadata": {},
   "outputs": [
    {
     "name": "stdout",
     "output_type": "stream",
     "text": [
      "Color: Blue, Border Width: 2, Length: 10, Width: 5\n",
      "Color: Red, Border Width: 1, Radius: 7\n"
     ]
    }
   ],
   "source": [
    "class Shape:\n",
    "    def __init__(self, color, border_width):\n",
    "        self.color = color\n",
    "        self.border_width = border_width\n",
    "\n",
    "    def display_info(self):\n",
    "        return f\"Color: {self.color}, Border Width: {self.border_width}\"\n",
    "\n",
    "class Rectangle(Shape):\n",
    "    def __init__(self, color, border_width, length, width):\n",
    "        super().__init__(color, border_width)  # Call the constructor of the superclass (Shape)\n",
    "        self.length = length\n",
    "        self.width = width\n",
    "\n",
    "    def display_info(self):\n",
    "        return f\"Color: {self.color}, Border Width: {self.border_width}, Length: {self.length}, Width: {self.width}\"\n",
    "\n",
    "class Circle(Shape):\n",
    "    def __init__(self, color, border_width, radius):\n",
    "        super().__init__(color, border_width)  # Call the constructor of the superclass (Shape)\n",
    "        self.radius = radius\n",
    "\n",
    "    def display_info(self):\n",
    "        return f\"Color: {self.color}, Border Width: {self.border_width}, Radius: {self.radius}\"\n",
    "\n",
    "# Create instances of Rectangle and Circle\n",
    "rectangle = Rectangle(\"Blue\", 2, 10, 5)\n",
    "circle = Circle(\"Red\", 1, 7)\n",
    "\n",
    "# Access attributes and methods\n",
    "print(rectangle.display_info())  \n",
    "print(circle.display_info())    \n"
   ]
  },
  {
   "cell_type": "code",
   "execution_count": null,
   "id": "8c4a46dd",
   "metadata": {},
   "outputs": [],
   "source": [
    "'''\n",
    "9. Create a base class called \"Device\" with attributes like \"brand\" and \"model.\" Derive\n",
    "two classes, \"Phone\" and \"Tablet,\" from \"Device.\" Add specific attributes like\n",
    "\"screen_size\" for the \"Phone\" class and \"battery_capacity\" for the \"Tablet\" class.\n",
    "'''"
   ]
  },
  {
   "cell_type": "code",
   "execution_count": 9,
   "id": "6040eb00",
   "metadata": {},
   "outputs": [
    {
     "name": "stdout",
     "output_type": "stream",
     "text": [
      "Brand: Apple, Model: iPhone 13, Screen Size: 6.1 inches\n",
      "Brand: Samsung, Model: Galaxy Tab S7, Battery Capacity: 8000 mAh\n"
     ]
    }
   ],
   "source": [
    "class Device:\n",
    "    def __init__(self, brand, model):\n",
    "        self.brand = brand\n",
    "        self.model = model\n",
    "\n",
    "    def display_info(self):\n",
    "        return f\"Brand: {self.brand}, Model: {self.model}\"\n",
    "\n",
    "class Phone(Device):\n",
    "    def __init__(self, brand, model, screen_size):\n",
    "        super().__init__(brand, model)  # Call the constructor of the superclass (Device)\n",
    "        self.screen_size = screen_size\n",
    "\n",
    "    def display_info(self):\n",
    "        return f\"Brand: {self.brand}, Model: {self.model}, Screen Size: {self.screen_size} inches\"\n",
    "\n",
    "class Tablet(Device):\n",
    "    def __init__(self, brand, model, battery_capacity):\n",
    "        super().__init__(brand, model)  # Call the constructor of the superclass (Device)\n",
    "        self.battery_capacity = battery_capacity\n",
    "\n",
    "    def display_info(self):\n",
    "        return f\"Brand: {self.brand}, Model: {self.model}, Battery Capacity: {self.battery_capacity} mAh\"\n",
    "\n",
    "# Create instances of Phone and Tablet\n",
    "phone = Phone(\"Apple\", \"iPhone 13\", 6.1)\n",
    "tablet = Tablet(\"Samsung\", \"Galaxy Tab S7\", 8000)\n",
    "\n",
    "# Access attributes and methods\n",
    "print(phone.display_info())  \n",
    "print(tablet.display_info())  \n"
   ]
  },
  {
   "cell_type": "code",
   "execution_count": null,
   "id": "3bb0379e",
   "metadata": {},
   "outputs": [],
   "source": [
    "'''\n",
    "10. Create a base class called \"BankAccount\" with attributes like \"account_number\" and\n",
    "\"balance.\" Derive two classes, \"SavingsAccount\" and \"CheckingAccount,\" from\n",
    "\"BankAccount.\" Add specific methods like \"calculate_interest\" for the\n",
    "\"SavingsAccount\" class and \"deduct_fees\" for the \"CheckingAccount\" class.\n",
    "'''"
   ]
  },
  {
   "cell_type": "code",
   "execution_count": 10,
   "id": "a35ae982",
   "metadata": {},
   "outputs": [
    {
     "name": "stdout",
     "output_type": "stream",
     "text": [
      "Account Number: SA12345, Balance: $1000.00\n",
      "Interest of $25.00 added. New balance: $1025.00\n",
      "Account Number: CA67890, Balance: $1500.00\n",
      "Monthly fee of $10.00 deducted. New balance: $1490.00\n"
     ]
    }
   ],
   "source": [
    "class BankAccount:\n",
    "    def __init__(self, account_number, balance):\n",
    "        self.account_number = account_number\n",
    "        self.balance = balance\n",
    "\n",
    "    def display_info(self):\n",
    "        return f\"Account Number: {self.account_number}, Balance: ${self.balance:.2f}\"\n",
    "\n",
    "class SavingsAccount(BankAccount):\n",
    "    def __init__(self, account_number, balance, interest_rate):\n",
    "        super().__init__(account_number, balance)  # Call the constructor of the superclass (BankAccount)\n",
    "        self.interest_rate = interest_rate\n",
    "\n",
    "    def calculate_interest(self):\n",
    "        interest = (self.balance * self.interest_rate) / 100\n",
    "        self.balance += interest\n",
    "        return f\"Interest of ${interest:.2f} added. New balance: ${self.balance:.2f}\"\n",
    "\n",
    "class CheckingAccount(BankAccount):\n",
    "    def __init__(self, account_number, balance, monthly_fee):\n",
    "        super().__init__(account_number, balance)  # Call the constructor of the superclass (BankAccount)\n",
    "        self.monthly_fee = monthly_fee\n",
    "\n",
    "    def deduct_fees(self):\n",
    "        self.balance -= self.monthly_fee\n",
    "        return f\"Monthly fee of ${self.monthly_fee:.2f} deducted. New balance: ${self.balance:.2f}\"\n",
    "\n",
    "# Create instances of SavingsAccount and CheckingAccount\n",
    "savings_account = SavingsAccount(\"SA12345\", 1000.00, 2.5)\n",
    "checking_account = CheckingAccount(\"CA67890\", 1500.00, 10.00)\n",
    "\n",
    "# Access attributes and methods\n",
    "print(savings_account.display_info())  \n",
    "print(savings_account.calculate_interest())  \n",
    "\n",
    "print(checking_account.display_info())  \n",
    "print(checking_account.deduct_fees())  \n"
   ]
  },
  {
   "cell_type": "code",
   "execution_count": null,
   "id": "b30636f5",
   "metadata": {},
   "outputs": [],
   "source": []
  }
 ],
 "metadata": {
  "kernelspec": {
   "display_name": "Python 3 (ipykernel)",
   "language": "python",
   "name": "python3"
  },
  "language_info": {
   "codemirror_mode": {
    "name": "ipython",
    "version": 3
   },
   "file_extension": ".py",
   "mimetype": "text/x-python",
   "name": "python",
   "nbconvert_exporter": "python",
   "pygments_lexer": "ipython3",
   "version": "3.10.11"
  }
 },
 "nbformat": 4,
 "nbformat_minor": 5
}
